{
  "nbformat": 4,
  "nbformat_minor": 0,
  "metadata": {
    "colab": {
      "name": "Untitled0.ipynb",
      "provenance": [],
      "collapsed_sections": [],
      "authorship_tag": "ABX9TyOm16hJ3ZaVaJnxDoeuC0Au",
      "include_colab_link": true
    },
    "kernelspec": {
      "name": "python3",
      "display_name": "Python 3"
    },
    "language_info": {
      "name": "python"
    }
  },
  "cells": [
    {
      "cell_type": "markdown",
      "metadata": {
        "id": "view-in-github",
        "colab_type": "text"
      },
      "source": [
        "<a href=\"https://colab.research.google.com/github/shipkovandrej/Proj_1sem_Derechin/blob/master/PZ_11.ipynb\" target=\"_parent\"><img src=\"https://colab.research.google.com/assets/colab-badge.svg\" alt=\"Open In Colab\"/></a>"
      ]
    },
    {
      "cell_type": "code",
      "execution_count": null,
      "metadata": {
        "id": "tLfQ-ud_5i6p"
      },
      "outputs": [],
      "source": [
        "A = input(\"Введите число А: \")\n",
        "B = input(\"Введите число B: \")\n",
        "C = input(\"Введите число C: \")\n",
        "\n",
        "while type(A) != int:   # обработка исключений\n",
        "    try:\n",
        "        A = int(A)\n",
        "    except ValueError:\n",
        "        print(\"Неправильное число\")\n",
        "        A = input(\"Введите число А: \")\n",
        "while type(B) != int:    # обработка исключений\n",
        "    try:\n",
        "        B = int(B)\n",
        "    except ValueError:\n",
        "        print(\"Неправильное число\")\n",
        "        B = input(\"Введите число B: \")\n",
        "while type(C) != int:   # обработка исключений\n",
        "    try:\n",
        "        C = int(C)\n",
        "    except ValueError:\n",
        "        print(\"Неправильное число\")\n",
        "        C = input(\"Введите число С: \")\n",
        "\n",
        "if A > 0 and B > 0 and C > 0:\n",
        "    print(\"Все числа положительные\")\n",
        "else:\n",
        "    print(\"Не все числа положительные\")"
      ]
    },
    {
      "cell_type": "code",
      "source": [
        "import math\n",
        "N = input(\"количество слагаемых: \")\n",
        "while type(N) != int:   # обработка исключений\n",
        "    try:\n",
        "        N = int(N)\n",
        "\n",
        "    except ValueError:\n",
        "        print(\"Неправильное число\")\n",
        "        N = int(input(\"Введите целое число: 1\"))\n",
        "try:\n",
        "    while N < 0 or type(N) != int:\n",
        "        print(\"Неправильное число\")\n",
        "        N = input(\"Введите целое число: 2\")\n",
        "        break\n",
        "except TypeError:\n",
        "    print(\"Неправильное число\")\n",
        "    N = input(\"Введите целое число: 3\")\n",
        "\n",
        "while type(N) != int:   # обработка исключений\n",
        "    try:\n",
        "        N = int(N)\n",
        "\n",
        "    except ValueError:\n",
        "        print(\"Неправильное число\")\n",
        "        N = int(input(\"Введите целое число: 4\"))\n",
        "\n",
        "firstNum = 1.1\n",
        "firstNum *= (-1) ** int(N)\n",
        "res = 0\n",
        "while N > 0:\n",
        "    print(\"число \", round(firstNum, 1), \"N = \", N)\n",
        "    res += round(firstNum, 1)\n",
        "    N -= 1\n",
        "    firstNum = math.fabs(firstNum) + 0.1    # модуль числа для коректного сложения\n",
        "    firstNum *= (-1) ** N\n",
        "print(\"сумма =  \", round(res, 1))"
      ],
      "metadata": {
        "colab": {
          "base_uri": "https://localhost:8080/"
        },
        "id": "3pJNqaOT6o_u",
        "outputId": "4a10d35a-21cc-422a-d72a-f95f024f009f"
      },
      "execution_count": 2,
      "outputs": [
        {
          "output_type": "stream",
          "name": "stdout",
          "text": [
            "количество слагаемых: 5\n",
            "число  -1.1 N =  5\n",
            "число  1.2 N =  4\n",
            "число  -1.3 N =  3\n",
            "число  1.4 N =  2\n",
            "число  -1.5 N =  1\n",
            "сумма =   -1.3\n"
          ]
        }
      ]
    },
    {
      "cell_type": "code",
      "source": [
        "def sumOfRange(num):\n",
        "    arr = range(1, num + 1)\n",
        "    res = 0\n",
        "    for i in arr:\n",
        "        res += i\n",
        "    print(\"Сумма равна = \", res)\n",
        "\n",
        "\n",
        "N = int(input(\"Кол-во элементов: \"))\n",
        "sumOfRange(N)"
      ],
      "metadata": {
        "colab": {
          "base_uri": "https://localhost:8080/"
        },
        "id": "QAo1B8gG65fF",
        "outputId": "d71e5516-08d2-4800-b5dd-a1cc83274fcc"
      },
      "execution_count": 3,
      "outputs": [
        {
          "output_type": "stream",
          "name": "stdout",
          "text": [
            "Кол-во элементов: 5\n",
            "Сумма равна =  15\n"
          ]
        }
      ]
    }
  ]
}